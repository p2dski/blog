{
 "metadata": {
  "name": ""
 },
 "nbformat": 3,
 "nbformat_minor": 0,
 "worksheets": [
  {
   "cells": [
    {
     "cell_type": "code",
     "collapsed": false,
     "input": [
      "import sys\n",
      "import json"
     ],
     "language": "python",
     "metadata": {},
     "outputs": []
    },
    {
     "cell_type": "code",
     "collapsed": false,
     "input": [
      "json_file = open('output.txt')\n",
      "data = []\n",
      "for line in json_file:\n",
      "    data.append(json.loads(line))\n",
      "    \n",
      "len(data)"
     ],
     "language": "python",
     "metadata": {},
     "outputs": []
    },
    {
     "cell_type": "code",
     "collapsed": false,
     "input": [
      "i = 0\n",
      "valid_us_data = []\n",
      "for line in data:\n",
      "    if 'text' in line.keys() and 'place' in line.keys():\n",
      "        if line['place'] == None:\n",
      "            i = i + 1\n",
      "            pass\n",
      "        elif line['place']['country_code'] == 'US':\n",
      "            valid_us_data.append(line)\n",
      "            \n",
      "len(data)-i"
     ],
     "language": "python",
     "metadata": {},
     "outputs": []
    },
    {
     "cell_type": "code",
     "collapsed": false,
     "input": [
      "valid_japan_data = []\n",
      "for line in data:\n",
      "    if 'text' in line.keys() and 'place' in line.keys():\n",
      "        if line['place'] == None:\n",
      "            pass\n",
      "        elif line['place']['country_code'] == 'JP':\n",
      "            valid_japan_data.append(line)"
     ],
     "language": "python",
     "metadata": {},
     "outputs": []
    },
    {
     "cell_type": "code",
     "collapsed": false,
     "input": [
      "us_tweets = []\n",
      "for line in valid_us_data:\n",
      "    us_tweets.append((line['text']))"
     ],
     "language": "python",
     "metadata": {},
     "outputs": []
    },
    {
     "cell_type": "code",
     "collapsed": false,
     "input": [
      "japan_tweets = []\n",
      "for line in valid_japan_data:\n",
      "    japan_tweets.append((line['text']))"
     ],
     "language": "python",
     "metadata": {},
     "outputs": []
    },
    {
     "cell_type": "code",
     "collapsed": false,
     "input": [
      "i = 0\n",
      "us_tot = 0\n",
      "for line in us_tweets:\n",
      "    if 'olympics' in line:\n",
      "        print line\n",
      "        i= i+ 1\n",
      "    us_tot = us_tot + 1\n",
      "print i"
     ],
     "language": "python",
     "metadata": {},
     "outputs": []
    },
    {
     "cell_type": "code",
     "collapsed": false,
     "input": [
      "j = 0\n",
      "japan_tot = 0\n",
      "for line in japan_tweets:\n",
      "    if '\u30aa\u30ea\u30f3\u30d4\u30c3\u30af'.decode('utf-8') in line:\n",
      "        print line\n",
      "        j = j + 1\n",
      "    japan_tot = japan_tot + 1\n",
      "print j"
     ],
     "language": "python",
     "metadata": {},
     "outputs": []
    },
    {
     "cell_type": "code",
     "collapsed": false,
     "input": [
      "us_percent = 100.0 * i / len(us_tweets)"
     ],
     "language": "python",
     "metadata": {},
     "outputs": []
    },
    {
     "cell_type": "code",
     "collapsed": false,
     "input": [
      "japan_percent = 100.0* i /len(japan_tweets)"
     ],
     "language": "python",
     "metadata": {},
     "outputs": []
    },
    {
     "cell_type": "code",
     "collapsed": false,
     "input": [
      "print str(us_percent) + '% of tweets in America were about the olympics'\n",
      "print str(japan_percent) + '% of tweets in Japan were about the Olympics'"
     ],
     "language": "python",
     "metadata": {},
     "outputs": []
    }
   ],
   "metadata": {}
  }
 ]
}