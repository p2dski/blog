{
 "metadata": {
  "name": ""
 },
 "nbformat": 3,
 "nbformat_minor": 0,
 "worksheets": [
  {
   "cells": [
    {
     "cell_type": "code",
     "collapsed": false,
     "input": [
      "import sys\n",
      "import json"
     ],
     "language": "python",
     "metadata": {},
     "outputs": [],
     "prompt_number": 1
    },
    {
     "cell_type": "code",
     "collapsed": false,
     "input": [
      "json_file = open('output.txt')\n",
      "data = []\n",
      "for line in json_file:\n",
      "    data.append(json.loads(line))\n",
      "    \n",
      "len(data)"
     ],
     "language": "python",
     "metadata": {},
     "outputs": [
      {
       "metadata": {},
       "output_type": "pyout",
       "prompt_number": 19,
       "text": [
        "62423"
       ]
      }
     ],
     "prompt_number": 19
    },
    {
     "cell_type": "code",
     "collapsed": false,
     "input": [
      "i = 0\n",
      "valid_us_data = []\n",
      "for line in data:\n",
      "    if 'text' in line.keys() and 'place' in line.keys():\n",
      "        if line['place'] == None:\n",
      "            i = i + 1\n",
      "            pass\n",
      "        elif line['place']['country_code'] == 'US':\n",
      "            valid_us_data.append(line)\n",
      "            \n",
      "len(data)-i"
     ],
     "language": "python",
     "metadata": {},
     "outputs": [
      {
       "metadata": {},
       "output_type": "pyout",
       "prompt_number": 21,
       "text": [
        "11504"
       ]
      }
     ],
     "prompt_number": 21
    },
    {
     "cell_type": "code",
     "collapsed": false,
     "input": [
      "valid_japan_data = []\n",
      "for line in data:\n",
      "    if 'text' in line.keys() and 'place' in line.keys():\n",
      "        if line['place'] == None:\n",
      "            pass\n",
      "        elif line['place']['country_code'] == 'JP':\n",
      "            valid_japan_data.append(line)"
     ],
     "language": "python",
     "metadata": {},
     "outputs": [],
     "prompt_number": 4
    },
    {
     "cell_type": "code",
     "collapsed": false,
     "input": [
      "us_tweets = []\n",
      "for line in valid_us_data:\n",
      "    us_tweets.append((line['text']))"
     ],
     "language": "python",
     "metadata": {},
     "outputs": [],
     "prompt_number": 5
    },
    {
     "cell_type": "code",
     "collapsed": false,
     "input": [
      "japan_tweets = []\n",
      "for line in valid_japan_data:\n",
      "    japan_tweets.append((line['text']))"
     ],
     "language": "python",
     "metadata": {},
     "outputs": [],
     "prompt_number": 6
    },
    {
     "cell_type": "code",
     "collapsed": false,
     "input": [
      "for line in japan_tweets:\n",
      "    print line"
     ],
     "language": "python",
     "metadata": {},
     "outputs": [
      {
       "output_type": "stream",
       "stream": "stdout",
       "text": [
        "2014-02-21T15:32+0900 PGV:0.3 INT:1.5 https://t.co/wZmmJWQNw4 #Mito #earthquake #jishin\n",
        "\u30bd\u30d5\u30c8\u30d0\u30f3\u30af\u3044\u3061\u308d\u30fc\u306f\u798f\u4e95\u306e\uff14\uff12\u6b73\u5b89\u500d\u653f\u6a29\u606b\u559d\u30b5\u30e8\u30af\u516c\u52d9\u54e1 \u2192 http://t.co/Te1EjyjOpP @softbank_ichiro #au #SoftBank #kddi #docomo #Fukui #\u5929\u3077\u3089 #\u5929\u5a66\u7f85 \u5929\u3077\u3089 \u5929\u5a66\u7f85 @masason\n",
        "I'm at \u9152\u7530\u99c5 (Sakata Sta.) (\u9152\u7530\u5e02, \u5c71\u5f62\u770c) http://t.co/MBLB3RfpgG\n",
        "#\u30aa\u30ea\u30fc\u5199\u771f \n",
        "\n",
        "\u732b\u30ab\u30d5\u30a7\ud83d\ude48\ud83d\udc95\n",
        "@annaaa1220 \u3046\u3072\u3087\u30fc\u2661\u3069\u3053\u3067\u2754\n",
        "@chikuwa29 \u4ffa\u306a\u3089\u30d3\u30d3\u308a\u3060\u304b\u308951.30.50\u304b\u306a\u3041w\n",
        "@misakichiii727 \u307f\u3055\u304d\u9811\u5f35\u308c\u3084\u30fc\n",
        "\u3010\u753b\u50cf\u3011\u3000\u30ad\u30e0\u30fb\u30e8\u30ca\u3000\u8868\u5f70\u53f0\u3067\u30cf\u30d6\u3089\u308c\u308b\u3000\u3053\u308c\u306b\u306f\u03bd\u901f\u6c11\u3082\u540c\u60c5\uff57\uff57\uff57\uff57\uff57\uff57\uff57\uff57\uff57\uff57\uff57\uff57\uff57\uff57\uff57\uff57\uff57 : \u4fdd\u5b88\u901f\u5831 http://t.co/zgmb9Heyez \u30b9\u30b2\u30fc\n",
        "@aa07142 \u3042\u3089\uff08\u7b11\uff09\u9078\u629c\u30af\u30e9\u30b9\u3044\u304f\uff1f\u305d\u308c\u3068\u3082\u4e00\u822c(\u00b4\uff65_\uff65`)\uff1f\n",
        "@youluv0102 \n",
        "\u3081\u3063\u3061\u3083\u308f\u304b\u308b\n",
        "\u3081\u3063\u3061\u3083\u308f\u304b\u308b\n",
        "\u5916\u56fd\u884c\u304d\u305f\u3044\n",
        "\u65e5\u672c\u306b\u3082\u3053\u3093\u306a\u3093\u3084\u3063\u3066\u307b\u3057\u3044\n",
        "\u307e\u3058\u3084\u3070\u3044\n",
        "\u30b0\u30ea\u30fc\u307f\u305f\u306a\u3063\u3066\u304d\u305f\u3084\u3093\u3002\u3084\u3081\u3066\n",
        "\u5145\u96fb\u5668\u3053\u308f\u308c\u305f\u30fc\u3001\u3057\u304b\u3082\uff11\uff15%\u3057\u304b\u306a\u3044\u3002\n",
        "docomo\u6539\u88c5\u4e2d\u3058\u3083\u3057\u3001\u4eca\u304b\u3089\u7814\u4fee\u3058\u3083\u3057\u3001\u3064\u3044\u3066\u306a\u3001\u3084\u308c\u3084\u308c\u3002\n",
        "@0628Yushi \u304a\u3063\u3001\u3044\u3051\u3081\u3093\u2661\n",
        "\u30d1\u30a4\u30f3\u30bd\u30d5\u30c8 http://t.co/vfqfeO1xZi\n",
        "\u4eca\u65e5\u306f\u666e\u901a\u306b5\u6642\u9593\u30d0\u30a4\u30c8\u304b\u30fc\n",
        "\u3060\u30fc\u308b\u3002\n",
        "\u3042\u3063\u3068\u3044\u3046\u9593\u306b\u7d42\u4e86\u3002 @ \u9577\u91ce\u732e\u8840\u30eb\u30fc\u30e0 http://t.co/sjxhWh2wZc\n",
        "@1r_k7 \u78ba\u7acb\u9ad8\u3044\u306d\u30fc\uff01\u7b11\u7b11\n",
        "@ainyaaaaaan66 \u3059\u3054\u3059\u304e\u308b\u308f\uff01\n",
        "\u93e1\u306b\u98db\u3073\u8fbc\u3080\u308f\u305f\u3057\u3082\u4f5c\u3063\u3066\n",
        "@yuu017 \u304a\u3058\u3061\u3083\u3093\u304a\u3070\u3061\u3083\u3093\u306b\u5b9c\u3057\u304f\u306d\u30fc(^_^)\n",
        "\u3059\u3050\u306e\u3068\u3053\u306b\u5c45\u3066\u826f\u304b\u3063\u305f\u30fc\uff01\n",
        "\u30b5\u30d7\u30e9\u30a4\u30ba\u8a2a\u554f\u3067\u3057\u305f\uff08\u7b11\uff09\n",
        "\u307f\u305a\u304d\u304c\u5168\u8cb7\u3044\u3057\u307e\u3059\uff01 http://t.co/CeEWJiNUjI\n",
        "\uc544 \uadfc\ub370 \ub3d9\ud0a4\ud638\ud14c\ub85c \uac00\uba74 \uba87\uce35\uc73c\ub85c \uac00\uc57c\ud558\uc9c0;;\n",
        "@yuuri905590 \u4f55\u6642\u3082\u3001\u7d20\u6575\u3067\u3059\uff01\n",
        "\u30d1\u30fc\u30de\u3042\u3066\u308b\u3093\u306a\u304b\u306a\u304b\u9577\u304b\u3063\u305f\uff08\u7b11\uff09\n",
        "@87_san @yucchan0260 \n",
        "\u304a\u30fc\uff01\n",
        "\u3064\u3044\u306b\u82e5\u30b8\u30e5\u30cb\u30a2\u751f\u307e\u308c\u305f\u304b\uff01\uff01\n",
        "\u304a\u75b2\u308c\u69d8\u3001\u304a\u3081\u3067\u3068\u30fc(\u00b4\uff1b\u03c9\uff1b\uff40 )\uff01\n",
        "\u771f\u592e\u3061\u3083\u3093\u3002\n",
        "\u3042\u308a\u304c\u3068\u3046\uff01\n",
        "@doragonz1954 \n",
        "\u307e\u3058\uff1f\n",
        "\u5352\u696d\u304a\u3081\ud83d\ude01\n",
        "@bear_dayo \n",
        "\u30d7\u30ec\u30b9\u30c6\u306e\u30bd\u30d5\u30c8\u306f\u958b\u767a\u306b\u30af\u30bd\u6642\u9593\u304b\u304b\u308b\u304b\u3089\n",
        "@cozz9936 \u3081\u3063\u3061\u3083\u5b89\u3044\u3084\u3093(\u7b11)\n",
        "@utakayo0916 \n",
        "\n",
        "\u4ffa\u3082\u305d\u3053\u3084\u306a\uff08\u7b11\uff09\n",
        "@hanako_amigo \n",
        "\n",
        "\u3042\u308a\u304c\u3068\u3046\u3054\u3056\u3044\u307e\u3059\u203c\ufe0e\u2661\n",
        "@hagehage19 \u9811\u5f35\u3063\u3066\u5973\u3072\u3063\u304b\u3051\u308d\u3063\u3066\u7b11\n",
        "@hicyun09 \u3042\u3044\u3064\u8abf\u5b50\u4e57\u3063\u3066\u3093\u3060\uff5e\u51fa\u7981\u304b\uff1f\n",
        "\"@yamagafc: [\u30d6\u30ed\u30b0\u66f4\u65b0] \u30aa\u30b6\u30ec\u30dd\u3010\u88cf\u30ad\u30e3\u30f3\u30d7\u30ec\u30dd\u30fc\u30c8\u305d\u306e16\u3011 http://t.co/9Cj9R36X2T #yamaga\"\n"
       ]
      }
     ],
     "prompt_number": 7
    },
    {
     "cell_type": "markdown",
     "metadata": {},
     "source": [
      "\u30aa\u30ea\u30f3\u30d4\u30c3\u30af"
     ]
    },
    {
     "cell_type": "code",
     "collapsed": false,
     "input": [
      "orinpikku = u'\u30aa\u30ea\u30f3\u30d4\u30c3\u30af'"
     ],
     "language": "python",
     "metadata": {},
     "outputs": [],
     "prompt_number": 8
    },
    {
     "cell_type": "code",
     "collapsed": false,
     "input": [
      "i = 0\n",
      "us_tot = 0\n",
      "for line in us_tweets:\n",
      "    if 'olympics' in line:\n",
      "        print line\n",
      "        i= i+ 1\n",
      "    us_tot = us_tot + 1\n",
      "print i\n",
      "print us_tot"
     ],
     "language": "python",
     "metadata": {},
     "outputs": [
      {
       "output_type": "stream",
       "stream": "stdout",
       "text": [
        "0\n",
        "447\n"
       ]
      }
     ],
     "prompt_number": 9
    },
    {
     "cell_type": "code",
     "collapsed": false,
     "input": [
      "j = 0\n",
      "japan_tot = 0\n",
      "for line in japan_tweets:\n",
      "    if '\u30aa\u30ea\u30f3\u30d4\u30c3\u30af'.decode('utf-8') in line:\n",
      "        print line\n",
      "        j = j + 1\n",
      "    japan_tot = japan_tot + 1\n",
      "print j\n",
      "print japan_tot"
     ],
     "language": "python",
     "metadata": {},
     "outputs": [
      {
       "output_type": "stream",
       "stream": "stdout",
       "text": [
        "0\n",
        "32\n"
       ]
      }
     ],
     "prompt_number": 10
    },
    {
     "cell_type": "code",
     "collapsed": false,
     "input": [
      "us_percent = 100.0 * i / len(us_tweets)"
     ],
     "language": "python",
     "metadata": {},
     "outputs": [],
     "prompt_number": 15
    },
    {
     "cell_type": "code",
     "collapsed": false,
     "input": [
      "japan_percent = 100.0* i /len(japan_tweets)"
     ],
     "language": "python",
     "metadata": {},
     "outputs": [],
     "prompt_number": 16
    },
    {
     "cell_type": "code",
     "collapsed": false,
     "input": [
      "print str(us_percent) + '% of tweets in America were about the olympics'\n",
      "print str(japan_percent) + '% of tweets in Japan were about the Olympics'"
     ],
     "language": "python",
     "metadata": {},
     "outputs": [
      {
       "output_type": "stream",
       "stream": "stdout",
       "text": [
        "0.0% of tweets in America were about the olympics\n",
        "0.0% of tweets in Japan were about the Olympics\n"
       ]
      }
     ],
     "prompt_number": 17
    },
    {
     "cell_type": "code",
     "collapsed": false,
     "input": [
      "5/3"
     ],
     "language": "python",
     "metadata": {},
     "outputs": [
      {
       "metadata": {},
       "output_type": "pyout",
       "prompt_number": 18,
       "text": [
        "1"
       ]
      }
     ],
     "prompt_number": 18
    },
    {
     "cell_type": "code",
     "collapsed": false,
     "input": [],
     "language": "python",
     "metadata": {},
     "outputs": []
    }
   ],
   "metadata": {}
  }
 ]
}