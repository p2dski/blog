{
 "metadata": {
  "name": ""
 },
 "nbformat": 3,
 "nbformat_minor": 0,
 "worksheets": [
  {
   "cells": [
    {
     "cell_type": "markdown",
     "metadata": {},
     "source": [
      "So, we're going to write a function called Count_Tabs that counts the number of notes on each string using guitar tabs. First, find the tabs you want to use. Copy them into a file, name the file, and save the file. To be save, delete lines like '1st guitar solo' because screw up our parsing. Also, if it has 'e, B, G, D, A, E' before each line, delete those too or modify the code to account for those. I'll use Red Hot Chili Pepper's Snow in this example. You can view the file [here](www.internet.com).\n",
      "\n",
      "And now we code:"
     ]
    },
    {
     "cell_type": "code",
     "collapsed": false,
     "input": [
      "def Count_Tabs(TabFile):\n",
      "    i = 0 ## Going to use i to determine which string we're on. In python, % is the remainder or modulo function.\n",
      "          ## For example, 13%5 = 3 since 13/5 has a remainder of 3.\n",
      "    highE = 0 ##These will count the number of notes on each string.\n",
      "    B = 0\n",
      "    G = 0\n",
      "    D = 0\n",
      "    A = 0\n",
      "    lowE = 0\n",
      "    tabs = open(TabFile) # This opens the text file\n",
      "    for line in tabs: # This loops over each line in the text file.\n",
      "        if line[0].isdigit() or line[0] == '-': # This determines if the line is the begining of a tab line\n",
      "            i = i + 1 # This determines which string we're on. If we're on the '15th string', that means we've gone through\n",
      "                        # the guitar twice and are now on the 3rd string, the G string)\n",
      "            if i%6 == 1: ##This implies it's the high e string. If i is 1, 7, 13, 19, ..., this returns true.\n",
      "                for char in line: # Iterates through each character of the guitar tab line.\n",
      "                    if char.isdigit() and not prev.isdigit(): # Just determines if the character is a digit and makes sure\n",
      "                                                            # the previous character is not a digit because if it is, it just means\n",
      "                                                            # we had a number like 11 which would be the 11th fret and not 1, 1\n",
      "                        highE += 1 #Adds one to our highE count\n",
      "                    prev = char #sets our previous character to the current character.\n",
      "            elif i%6 == 2: ##This implies it's the B string\n",
      "                for char in line:\n",
      "                    if char.isdigit() and not prev.isdigit():\n",
      "                        B += 1\n",
      "                    prev = char\n",
      "            elif i%6 == 3: ##This implies it's the G string\n",
      "                for char in line:\n",
      "                    if char.isdigit() and not prev.isdigit():\n",
      "                        G += 1\n",
      "                    prev = char\n",
      "            elif i%6 == 4: ##This implies it's the D string\n",
      "                for char in line:\n",
      "                    if char.isdigit() and not prev.isdigit():\n",
      "                        D += 1\n",
      "                    prev = char\n",
      "            elif i%6 == 5: ##This implies it's the A string\n",
      "                for char in line:\n",
      "                    if char.isdigit() and not prev.isdigit():\n",
      "                        A += 1\n",
      "                    prev = char\n",
      "            else: ##This implies it's the low E string\n",
      "                for char in line:\n",
      "                    if char.isdigit() and not prev.isdigit():\n",
      "                        lowE += 1       \n",
      "                    prev = char\n",
      "    tabs.close()\n",
      "    return highE, B, G, D, A, lowE"
     ],
     "language": "python",
     "metadata": {},
     "outputs": [],
     "prompt_number": 92
    },
    {
     "cell_type": "code",
     "collapsed": false,
     "input": [
      "Count_Tabs('RHCP-Snow.txt') #This calls the function"
     ],
     "language": "python",
     "metadata": {},
     "outputs": [
      {
       "metadata": {},
       "output_type": "pyout",
       "prompt_number": 97,
       "text": [
        "(167, 187, 225, 194, 53, 11)"
       ]
      }
     ],
     "prompt_number": 97
    },
    {
     "cell_type": "markdown",
     "metadata": {},
     "source": [
      "Just be sure the tabs you used are all formatted properly. If a non-tab line starts with a '-' or a number, the program will read that as a guitar tab line and everything will be thrown off. Also, if you use tabs that start with 'e, B, G, D, A, E', be sure to change the code to add that in. "
     ]
    },
    {
     "cell_type": "markdown",
     "metadata": {},
     "source": [
      "Doing it this way will allow you to determine which string a certain artist played the most, which string a certain genre uses the most, or which string you play the most."
     ]
    }
   ],
   "metadata": {}
  }
 ]
}